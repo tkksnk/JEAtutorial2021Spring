{
 "cells": [
  {
   "cell_type": "code",
   "execution_count": 1,
   "metadata": {},
   "outputs": [],
   "source": [
    "struct Model{TI<:Integer, TF<:AbstractFloat}\n",
    "    rstar::TF   # pH=0のときの、定常状態での名目金利の値\n",
    "    bet::TF     # 割引率\n",
    "    phi::TF     # テイラー係数\n",
    "    kap::TF     # フィリップス曲線の傾き\n",
    "    sH::TF      # 状態Hでの自然利子率の値\n",
    "    sL::TF      # 状態Lでの自然利子率の値\n",
    "    pH::TF      # 危機が起こる確率\n",
    "    pL::TF      # 危機の継続確率\n",
    "    maxiter::TI # 繰り返し回数の最大値\n",
    "    tol::TF     # 許容誤差\n",
    "end"
   ]
  },
  {
   "cell_type": "code",
   "execution_count": 4,
   "metadata": {},
   "outputs": [
    {
     "data": {
      "text/plain": [
       "1.0e-5"
      ]
     },
     "execution_count": 4,
     "metadata": {},
     "output_type": "execute_result"
    }
   ],
   "source": [
    "rstar = 0.75 # pH=0のときの、定常状態での名目金利の値\n",
    "bet = 1/(1+rstar/100) # 割引率(オイラー方程式の定常状態より)\n",
    "phi = 5.0  # テイラー係数(注: 小さいとiL=0にならない)\n",
    "pL = 0.75  # 危機の継続確率\n",
    "sH = rstar # 状態Hでの自然利子率の値\n",
    "\n",
    "# カリブレーション\n",
    "# yLとpiLのターゲットにpH=0のときのモデルの値を合わせるように、sLとkapの値をセット\n",
    "\n",
    "pH = 0.0 # 危機が起こる確率\n",
    "kap = 0.01\n",
    "sL = rstar-2.0\n",
    "\n",
    "maxiter = 1000\n",
    "tol = 1e-5"
   ]
  },
  {
   "cell_type": "code",
   "execution_count": 5,
   "metadata": {},
   "outputs": [
    {
     "data": {
      "text/plain": [
       "Model{Int64,Float64}(0.75, 0.9925558312655086, 5.0, 0.01, 0.75, -1.25, 0.0, 0.75, 1000, 1.0e-5)"
      ]
     },
     "execution_count": 5,
     "metadata": {},
     "output_type": "execute_result"
    }
   ],
   "source": [
    "m = Model(rstar,bet,phi,kap,sH,sL,pH,pL,maxiter,tol)\n"
   ]
  }
 ],
 "metadata": {
  "kernelspec": {
   "display_name": "Julia 1.5.3",
   "language": "julia",
   "name": "julia-1.5"
  },
  "language_info": {
   "file_extension": ".jl",
   "mimetype": "application/julia",
   "name": "julia",
   "version": "1.5.3"
  }
 },
 "nbformat": 4,
 "nbformat_minor": 4
}
