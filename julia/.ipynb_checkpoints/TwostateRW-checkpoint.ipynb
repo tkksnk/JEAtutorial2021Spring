{
 "cells": [
  {
   "cell_type": "code",
   "execution_count": 1,
   "metadata": {},
   "outputs": [],
   "source": [
    "struct Model{TI<:Integer, TF<:AbstractFloat}\n",
    "    bet::TF     # 割引率\n",
    "    kap::TF     # フィリップス曲線の傾き\n",
    "    phi::TF     # テイラー係数\n",
    "    rstar::TF   # pH=0のときの、定常状態での名目金利の値\n",
    "    zeta::TF     # フィリップス曲線の傾き\n",
    "    sH::TF      # 状態Hでの自然利子率の値\n",
    "    sL::TF      # 状態Lでの自然利子率の値\n",
    "    pH::TF      # 危機が起こる確率\n",
    "    pL::TF      # 危機の継続確率\n",
    "    maxiter::TI\n",
    "    tol::TF\n",
    "end"
   ]
  },
  {
   "cell_type": "code",
   "execution_count": 2,
   "metadata": {},
   "outputs": [
    {
     "data": {
      "text/plain": [
       "Model{Int64,Float64}(0.9925, 0.01, 5.0, 0.7556675062972307, 1.0, 0.7556675062972307, -1.7443324937027693, 0.0, 0.8, 1000, 1.0e-5)"
      ]
     },
     "execution_count": 2,
     "metadata": {},
     "output_type": "execute_result"
    }
   ],
   "source": [
    "include(\"rw2.jl\")\n",
    "\n",
    "damp = 1.0\n",
    "\n",
    "bet = 0.9925\n",
    "kap = 0.01\n",
    "phi = 5.0\n",
    "rstar = (1/bet-1)*100\n",
    "zeta = 1.0\n",
    "\n",
    "pH = 0.0\n",
    "pL = 0.8\n",
    "sH = rstar\n",
    "sL = rstar-2.5\n",
    "\n",
    "m = Model(bet,kap,phi,rstar,zeta,sH,sL,pH,pL,1000,1e-5)"
   ]
  }
 ],
 "metadata": {
  "kernelspec": {
   "display_name": "Julia 1.5.3",
   "language": "julia",
   "name": "julia-1.5"
  },
  "language_info": {
   "file_extension": ".jl",
   "mimetype": "application/julia",
   "name": "julia",
   "version": "1.5.3"
  }
 },
 "nbformat": 4,
 "nbformat_minor": 4
}
